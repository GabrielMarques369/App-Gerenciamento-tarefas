{
  "nbformat": 4,
  "nbformat_minor": 0,
  "metadata": {
    "colab": {
      "provenance": [],
      "authorship_tag": "ABX9TyNb59GlQiJDc6MXYB9c/0oy",
      "include_colab_link": true
    },
    "kernelspec": {
      "name": "python3",
      "display_name": "Python 3"
    },
    "language_info": {
      "name": "python"
    }
  },
  "cells": [
    {
      "cell_type": "markdown",
      "metadata": {
        "id": "view-in-github",
        "colab_type": "text"
      },
      "source": [
        "<a href=\"https://colab.research.google.com/github/GabrielMarques369/App-Gerenciamento-tarefas/blob/main/App_gerencia_tarefas.ipynb\" target=\"_parent\"><img src=\"https://colab.research.google.com/assets/colab-badge.svg\" alt=\"Open In Colab\"/></a>"
      ]
    },
    {
      "cell_type": "code",
      "source": [
        "import os\n",
        "\n",
        "class Task:\n",
        "    def __init__(self, title, completed=False):\n",
        "        self.title = title\n",
        "        self.completed = completed\n",
        "\n",
        "def add_task(tasks):\n",
        "    title = input(\"Digite o título da tarefa: \")\n",
        "    tasks.append(Task(title))\n",
        "    print(f\"Tarefa '{title}' adicionada com sucesso!\\n\")\n",
        "\n",
        "def view_tasks(tasks):\n",
        "    if not tasks:\n",
        "        print(\"Nenhuma tarefa disponível.\\n\")\n",
        "    else:\n",
        "        for i, task in enumerate(tasks, 1):\n",
        "            status = \"[Concluída]\" if task.completed else \"[Pendente]\"\n",
        "            print(f\"{i}. {task.title} {status}\")\n",
        "    print()\n",
        "\n",
        "def mark_task_as_completed(tasks):\n",
        "    view_tasks(tasks)\n",
        "    try:\n",
        "        task_number = int(input(\"Digite o número da tarefa para marcar como concluída: \"))\n",
        "        tasks[task_number - 1].completed = True\n",
        "        print(f\"Tarefa '{tasks[task_number - 1].title}' marcada como concluída!\\n\")\n",
        "    except (IndexError, ValueError):\n",
        "        print(\"Número inválido.\\n\")\n",
        "\n",
        "def remove_task(tasks):\n",
        "    view_tasks(tasks)\n",
        "    try:\n",
        "        task_number = int(input(\"Digite o número da tarefa para remover: \"))\n",
        "        removed_task = tasks.pop(task_number - 1)\n",
        "        print(f\"Tarefa '{removed_task.title}' removida com sucesso!\\n\")\n",
        "    except (IndexError, ValueError):\n",
        "        print(\"Número inválido.\\n\")\n",
        "\n",
        "def clear_screen():\n",
        "    os.system('cls' if os.name == 'nt' else 'clear')\n",
        "\n",
        "def main():\n",
        "    tasks = []\n",
        "    while True:\n",
        "        print(\"Gerenciamento de Tarefas\")\n",
        "        print(\"1. Adicionar Tarefa\")\n",
        "        print(\"2. Visualizar Tarefas\")\n",
        "        print(\"3. Marcar Tarefa como Concluída\")\n",
        "        print(\"4. Remover Tarefa\")\n",
        "        print(\"5. Sair\")\n",
        "\n",
        "        choice = input(\"Escolha uma opção: \")\n",
        "        clear_screen()\n",
        "\n",
        "        if choice == '1':\n",
        "            add_task(tasks)\n",
        "        elif choice == '2':\n",
        "            view_tasks(tasks)\n",
        "        elif choice == '3':\n",
        "            mark_task_as_completed(tasks)\n",
        "        elif choice == '4':\n",
        "            remove_task(tasks)\n",
        "        elif choice == '5':\n",
        "            print(\"Saindo do Gerenciador de Tarefas.\")\n",
        "            break\n",
        "        else:\n",
        "            print(\"Opção inválida. Tente novamente.\\n\")\n",
        "\n",
        "if __name__ == \"__main__\":\n",
        "    main()\n"
      ],
      "metadata": {
        "colab": {
          "base_uri": "https://localhost:8080/"
        },
        "id": "riFdXRzC-W_y",
        "outputId": "d7860d71-2b2d-4424-9cb8-b0d2bcf0fa8c"
      },
      "execution_count": 8,
      "outputs": [
        {
          "output_type": "stream",
          "name": "stdout",
          "text": [
            "Gerenciamento de Tarefas\n",
            "1. Adicionar Tarefa\n",
            "2. Visualizar Tarefas\n",
            "3. Marcar Tarefa como Concluída\n",
            "4. Remover Tarefa\n",
            "5. Sair\n",
            "Escolha uma opção: 5\n",
            "Saindo do Gerenciador de Tarefas.\n"
          ]
        }
      ]
    }
  ]
}